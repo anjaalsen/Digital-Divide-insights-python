{
 "cells": [
  {
   "cell_type": "markdown",
   "id": "a7a49ff3-5b32-47e6-ac35-48aa252b1a3a",
   "metadata": {},
   "source": [
    "# 6.6 Sourcing & Analyzing Time-Series Data"
   ]
  },
  {
   "cell_type": "code",
   "execution_count": null,
   "id": "76d8e19f-1cd3-4a6e-b210-2bb50624230b",
   "metadata": {},
   "outputs": [],
   "source": []
  },
  {
   "cell_type": "markdown",
   "id": "3254ec3f-9da7-4781-b27e-f3b3efd538f4",
   "metadata": {},
   "source": [
    "## 1. Importing libraries and data\n",
    "## 2. Subsetting, wrangling, and cleaning data\n",
    "## 3. Time series analysis: decomposition\n",
    "## 4. Testing for stationarity\n",
    "## 5. Stationarizing the dataset"
   ]
  },
  {
   "cell_type": "markdown",
   "id": "c00ae87e-e1d6-417a-b391-52a6c852d26e",
   "metadata": {},
   "source": [
    "## 1. Importing libraries and data"
   ]
  },
  {
   "cell_type": "code",
   "execution_count": 20,
   "id": "3a38e79a-626d-4aa6-8ba6-ede8e248e8d2",
   "metadata": {},
   "outputs": [],
   "source": [
    "import pandas as pd\n",
    "import numpy as np\n",
    "import seaborn as sns\n",
    "import matplotlib\n",
    "import matplotlib.pyplot as plt\n",
    "import statsmodels.api as sm # Using .api imports the public access version of statsmodels, which is a library that handles \n",
    "# statistical models.\n",
    "import os\n",
    "import warnings # This is a library that handles warnings.\n",
    "\n",
    "warnings.filterwarnings(\"ignore\") # Disable deprecation warnings that could indicate, for instance, a suspended library or \n",
    "# feature. These are more relevant to developers and very seldom to analysts.\n",
    "\n",
    "plt.style.use('fivethirtyeight') # This is a styling option for how your plots will appear."
   ]
  },
  {
   "cell_type": "code",
   "execution_count": 21,
   "id": "009d6a48-bbd3-480b-ac07-fc466c4ba5bf",
   "metadata": {},
   "outputs": [],
   "source": [
    "path = r'C:\\Users\\User\\250104_Global Internet Access Analysis'"
   ]
  },
  {
   "cell_type": "code",
   "execution_count": 22,
   "id": "285c6d55-47d2-473d-b4ad-6afe7f14969e",
   "metadata": {},
   "outputs": [],
   "source": [
    "df_internet = pd.read_csv(os.path.join(path, '02 Data', 'Prepared data', 'final_dataset.csv'))"
   ]
  },
  {
   "cell_type": "code",
   "execution_count": 23,
   "id": "589393bd-d795-4290-a2e5-c88ea7c6a0f6",
   "metadata": {},
   "outputs": [
    {
     "data": {
      "text/html": [
       "<div>\n",
       "<style scoped>\n",
       "    .dataframe tbody tr th:only-of-type {\n",
       "        vertical-align: middle;\n",
       "    }\n",
       "\n",
       "    .dataframe tbody tr th {\n",
       "        vertical-align: top;\n",
       "    }\n",
       "\n",
       "    .dataframe thead th {\n",
       "        text-align: right;\n",
       "    }\n",
       "</style>\n",
       "<table border=\"1\" class=\"dataframe\">\n",
       "  <thead>\n",
       "    <tr style=\"text-align: right;\">\n",
       "      <th></th>\n",
       "      <th>Unnamed: 0</th>\n",
       "      <th>Country Name</th>\n",
       "      <th>Country Code</th>\n",
       "      <th>Region</th>\n",
       "      <th>IncomeGroup</th>\n",
       "      <th>Year</th>\n",
       "      <th>Internet_Users</th>\n",
       "      <th>GDP_Per_Capita</th>\n",
       "      <th>Electricity_Access</th>\n",
       "      <th>Electricity_Access_Rural</th>\n",
       "      <th>...</th>\n",
       "      <th>Literacy_Male</th>\n",
       "      <th>Literacy_Total</th>\n",
       "      <th>Pop_0_14</th>\n",
       "      <th>Pop_15_64</th>\n",
       "      <th>Pop_65_Above</th>\n",
       "      <th>Pop_Female</th>\n",
       "      <th>Pop_Male</th>\n",
       "      <th>Pop_Total</th>\n",
       "      <th>Pop_Rural</th>\n",
       "      <th>Pop_Urban</th>\n",
       "    </tr>\n",
       "  </thead>\n",
       "  <tbody>\n",
       "    <tr>\n",
       "      <th>0</th>\n",
       "      <td>0</td>\n",
       "      <td>Afghanistan</td>\n",
       "      <td>AFG</td>\n",
       "      <td>South Asia</td>\n",
       "      <td>Low income</td>\n",
       "      <td>2012</td>\n",
       "      <td>5.45455</td>\n",
       "      <td>1988.429304</td>\n",
       "      <td>69.1</td>\n",
       "      <td>60.8</td>\n",
       "      <td>...</td>\n",
       "      <td>85.479461</td>\n",
       "      <td>81.376306</td>\n",
       "      <td>47.605305</td>\n",
       "      <td>50.056783</td>\n",
       "      <td>2.337911</td>\n",
       "      <td>49.499771</td>\n",
       "      <td>50.500229</td>\n",
       "      <td>30560034.0</td>\n",
       "      <td>75.840</td>\n",
       "      <td>24.160</td>\n",
       "    </tr>\n",
       "    <tr>\n",
       "      <th>1</th>\n",
       "      <td>1</td>\n",
       "      <td>Afghanistan</td>\n",
       "      <td>AFG</td>\n",
       "      <td>South Asia</td>\n",
       "      <td>Low income</td>\n",
       "      <td>2013</td>\n",
       "      <td>5.90000</td>\n",
       "      <td>2133.241271</td>\n",
       "      <td>68.0</td>\n",
       "      <td>60.2</td>\n",
       "      <td>...</td>\n",
       "      <td>85.479461</td>\n",
       "      <td>81.376306</td>\n",
       "      <td>47.161386</td>\n",
       "      <td>50.488845</td>\n",
       "      <td>2.349769</td>\n",
       "      <td>49.482650</td>\n",
       "      <td>50.517350</td>\n",
       "      <td>31622704.0</td>\n",
       "      <td>75.627</td>\n",
       "      <td>24.373</td>\n",
       "    </tr>\n",
       "    <tr>\n",
       "      <th>2</th>\n",
       "      <td>2</td>\n",
       "      <td>Afghanistan</td>\n",
       "      <td>AFG</td>\n",
       "      <td>South Asia</td>\n",
       "      <td>Low income</td>\n",
       "      <td>2014</td>\n",
       "      <td>7.00000</td>\n",
       "      <td>2224.490748</td>\n",
       "      <td>89.5</td>\n",
       "      <td>86.5</td>\n",
       "      <td>...</td>\n",
       "      <td>85.479461</td>\n",
       "      <td>81.376306</td>\n",
       "      <td>46.713066</td>\n",
       "      <td>50.930398</td>\n",
       "      <td>2.356536</td>\n",
       "      <td>49.468115</td>\n",
       "      <td>50.531885</td>\n",
       "      <td>32792523.0</td>\n",
       "      <td>75.413</td>\n",
       "      <td>24.587</td>\n",
       "    </tr>\n",
       "    <tr>\n",
       "      <th>3</th>\n",
       "      <td>3</td>\n",
       "      <td>Afghanistan</td>\n",
       "      <td>AFG</td>\n",
       "      <td>South Asia</td>\n",
       "      <td>Low income</td>\n",
       "      <td>2015</td>\n",
       "      <td>8.26000</td>\n",
       "      <td>2284.075848</td>\n",
       "      <td>71.5</td>\n",
       "      <td>64.6</td>\n",
       "      <td>...</td>\n",
       "      <td>50.212101</td>\n",
       "      <td>33.753841</td>\n",
       "      <td>46.259337</td>\n",
       "      <td>51.383968</td>\n",
       "      <td>2.356695</td>\n",
       "      <td>49.457202</td>\n",
       "      <td>50.542798</td>\n",
       "      <td>33831764.0</td>\n",
       "      <td>75.197</td>\n",
       "      <td>24.803</td>\n",
       "    </tr>\n",
       "    <tr>\n",
       "      <th>4</th>\n",
       "      <td>4</td>\n",
       "      <td>Afghanistan</td>\n",
       "      <td>AFG</td>\n",
       "      <td>South Asia</td>\n",
       "      <td>Low income</td>\n",
       "      <td>2016</td>\n",
       "      <td>11.00000</td>\n",
       "      <td>2213.181441</td>\n",
       "      <td>97.7</td>\n",
       "      <td>97.1</td>\n",
       "      <td>...</td>\n",
       "      <td>85.479461</td>\n",
       "      <td>81.376306</td>\n",
       "      <td>45.801449</td>\n",
       "      <td>51.843054</td>\n",
       "      <td>2.355497</td>\n",
       "      <td>49.449550</td>\n",
       "      <td>50.550450</td>\n",
       "      <td>34700612.0</td>\n",
       "      <td>74.980</td>\n",
       "      <td>25.020</td>\n",
       "    </tr>\n",
       "  </tbody>\n",
       "</table>\n",
       "<p>5 rows × 25 columns</p>\n",
       "</div>"
      ],
      "text/plain": [
       "   Unnamed: 0 Country Name Country Code      Region IncomeGroup  Year  \\\n",
       "0           0  Afghanistan          AFG  South Asia  Low income  2012   \n",
       "1           1  Afghanistan          AFG  South Asia  Low income  2013   \n",
       "2           2  Afghanistan          AFG  South Asia  Low income  2014   \n",
       "3           3  Afghanistan          AFG  South Asia  Low income  2015   \n",
       "4           4  Afghanistan          AFG  South Asia  Low income  2016   \n",
       "\n",
       "   Internet_Users  GDP_Per_Capita  Electricity_Access  \\\n",
       "0         5.45455     1988.429304                69.1   \n",
       "1         5.90000     2133.241271                68.0   \n",
       "2         7.00000     2224.490748                89.5   \n",
       "3         8.26000     2284.075848                71.5   \n",
       "4        11.00000     2213.181441                97.7   \n",
       "\n",
       "   Electricity_Access_Rural  ...  Literacy_Male  Literacy_Total   Pop_0_14  \\\n",
       "0                      60.8  ...      85.479461       81.376306  47.605305   \n",
       "1                      60.2  ...      85.479461       81.376306  47.161386   \n",
       "2                      86.5  ...      85.479461       81.376306  46.713066   \n",
       "3                      64.6  ...      50.212101       33.753841  46.259337   \n",
       "4                      97.1  ...      85.479461       81.376306  45.801449   \n",
       "\n",
       "   Pop_15_64  Pop_65_Above  Pop_Female   Pop_Male   Pop_Total  Pop_Rural  \\\n",
       "0  50.056783      2.337911   49.499771  50.500229  30560034.0     75.840   \n",
       "1  50.488845      2.349769   49.482650  50.517350  31622704.0     75.627   \n",
       "2  50.930398      2.356536   49.468115  50.531885  32792523.0     75.413   \n",
       "3  51.383968      2.356695   49.457202  50.542798  33831764.0     75.197   \n",
       "4  51.843054      2.355497   49.449550  50.550450  34700612.0     74.980   \n",
       "\n",
       "   Pop_Urban  \n",
       "0     24.160  \n",
       "1     24.373  \n",
       "2     24.587  \n",
       "3     24.803  \n",
       "4     25.020  \n",
       "\n",
       "[5 rows x 25 columns]"
      ]
     },
     "execution_count": 23,
     "metadata": {},
     "output_type": "execute_result"
    }
   ],
   "source": [
    "df_internet.head()"
   ]
  },
  {
   "cell_type": "code",
   "execution_count": 24,
   "id": "818b572b-fd87-4696-b198-4e6b5f19a4b5",
   "metadata": {},
   "outputs": [
    {
     "data": {
      "text/html": [
       "<div>\n",
       "<style scoped>\n",
       "    .dataframe tbody tr th:only-of-type {\n",
       "        vertical-align: middle;\n",
       "    }\n",
       "\n",
       "    .dataframe tbody tr th {\n",
       "        vertical-align: top;\n",
       "    }\n",
       "\n",
       "    .dataframe thead th {\n",
       "        text-align: right;\n",
       "    }\n",
       "</style>\n",
       "<table border=\"1\" class=\"dataframe\">\n",
       "  <thead>\n",
       "    <tr style=\"text-align: right;\">\n",
       "      <th></th>\n",
       "      <th>Unnamed: 0</th>\n",
       "      <th>Country Name</th>\n",
       "      <th>Country Code</th>\n",
       "      <th>Region</th>\n",
       "      <th>IncomeGroup</th>\n",
       "      <th>Year</th>\n",
       "      <th>Internet_Users</th>\n",
       "      <th>GDP_Per_Capita</th>\n",
       "      <th>Electricity_Access</th>\n",
       "      <th>Electricity_Access_Rural</th>\n",
       "      <th>...</th>\n",
       "      <th>Literacy_Male</th>\n",
       "      <th>Literacy_Total</th>\n",
       "      <th>Pop_0_14</th>\n",
       "      <th>Pop_15_64</th>\n",
       "      <th>Pop_65_Above</th>\n",
       "      <th>Pop_Female</th>\n",
       "      <th>Pop_Male</th>\n",
       "      <th>Pop_Total</th>\n",
       "      <th>Pop_Rural</th>\n",
       "      <th>Pop_Urban</th>\n",
       "    </tr>\n",
       "  </thead>\n",
       "  <tbody>\n",
       "    <tr>\n",
       "      <th>0</th>\n",
       "      <td>0</td>\n",
       "      <td>Afghanistan</td>\n",
       "      <td>AFG</td>\n",
       "      <td>South Asia</td>\n",
       "      <td>Low income</td>\n",
       "      <td>2012</td>\n",
       "      <td>5.45455</td>\n",
       "      <td>1988.429304</td>\n",
       "      <td>69.1</td>\n",
       "      <td>60.8</td>\n",
       "      <td>...</td>\n",
       "      <td>85.479461</td>\n",
       "      <td>81.376306</td>\n",
       "      <td>47.605305</td>\n",
       "      <td>50.056783</td>\n",
       "      <td>2.337911</td>\n",
       "      <td>49.499771</td>\n",
       "      <td>50.500229</td>\n",
       "      <td>30560034.0</td>\n",
       "      <td>75.840</td>\n",
       "      <td>24.160</td>\n",
       "    </tr>\n",
       "    <tr>\n",
       "      <th>1</th>\n",
       "      <td>1</td>\n",
       "      <td>Afghanistan</td>\n",
       "      <td>AFG</td>\n",
       "      <td>South Asia</td>\n",
       "      <td>Low income</td>\n",
       "      <td>2013</td>\n",
       "      <td>5.90000</td>\n",
       "      <td>2133.241271</td>\n",
       "      <td>68.0</td>\n",
       "      <td>60.2</td>\n",
       "      <td>...</td>\n",
       "      <td>85.479461</td>\n",
       "      <td>81.376306</td>\n",
       "      <td>47.161386</td>\n",
       "      <td>50.488845</td>\n",
       "      <td>2.349769</td>\n",
       "      <td>49.482650</td>\n",
       "      <td>50.517350</td>\n",
       "      <td>31622704.0</td>\n",
       "      <td>75.627</td>\n",
       "      <td>24.373</td>\n",
       "    </tr>\n",
       "    <tr>\n",
       "      <th>2</th>\n",
       "      <td>2</td>\n",
       "      <td>Afghanistan</td>\n",
       "      <td>AFG</td>\n",
       "      <td>South Asia</td>\n",
       "      <td>Low income</td>\n",
       "      <td>2014</td>\n",
       "      <td>7.00000</td>\n",
       "      <td>2224.490748</td>\n",
       "      <td>89.5</td>\n",
       "      <td>86.5</td>\n",
       "      <td>...</td>\n",
       "      <td>85.479461</td>\n",
       "      <td>81.376306</td>\n",
       "      <td>46.713066</td>\n",
       "      <td>50.930398</td>\n",
       "      <td>2.356536</td>\n",
       "      <td>49.468115</td>\n",
       "      <td>50.531885</td>\n",
       "      <td>32792523.0</td>\n",
       "      <td>75.413</td>\n",
       "      <td>24.587</td>\n",
       "    </tr>\n",
       "    <tr>\n",
       "      <th>3</th>\n",
       "      <td>3</td>\n",
       "      <td>Afghanistan</td>\n",
       "      <td>AFG</td>\n",
       "      <td>South Asia</td>\n",
       "      <td>Low income</td>\n",
       "      <td>2015</td>\n",
       "      <td>8.26000</td>\n",
       "      <td>2284.075848</td>\n",
       "      <td>71.5</td>\n",
       "      <td>64.6</td>\n",
       "      <td>...</td>\n",
       "      <td>50.212101</td>\n",
       "      <td>33.753841</td>\n",
       "      <td>46.259337</td>\n",
       "      <td>51.383968</td>\n",
       "      <td>2.356695</td>\n",
       "      <td>49.457202</td>\n",
       "      <td>50.542798</td>\n",
       "      <td>33831764.0</td>\n",
       "      <td>75.197</td>\n",
       "      <td>24.803</td>\n",
       "    </tr>\n",
       "    <tr>\n",
       "      <th>4</th>\n",
       "      <td>4</td>\n",
       "      <td>Afghanistan</td>\n",
       "      <td>AFG</td>\n",
       "      <td>South Asia</td>\n",
       "      <td>Low income</td>\n",
       "      <td>2016</td>\n",
       "      <td>11.00000</td>\n",
       "      <td>2213.181441</td>\n",
       "      <td>97.7</td>\n",
       "      <td>97.1</td>\n",
       "      <td>...</td>\n",
       "      <td>85.479461</td>\n",
       "      <td>81.376306</td>\n",
       "      <td>45.801449</td>\n",
       "      <td>51.843054</td>\n",
       "      <td>2.355497</td>\n",
       "      <td>49.449550</td>\n",
       "      <td>50.550450</td>\n",
       "      <td>34700612.0</td>\n",
       "      <td>74.980</td>\n",
       "      <td>25.020</td>\n",
       "    </tr>\n",
       "  </tbody>\n",
       "</table>\n",
       "<p>5 rows × 25 columns</p>\n",
       "</div>"
      ],
      "text/plain": [
       "   Unnamed: 0 Country Name Country Code      Region IncomeGroup  Year  \\\n",
       "0           0  Afghanistan          AFG  South Asia  Low income  2012   \n",
       "1           1  Afghanistan          AFG  South Asia  Low income  2013   \n",
       "2           2  Afghanistan          AFG  South Asia  Low income  2014   \n",
       "3           3  Afghanistan          AFG  South Asia  Low income  2015   \n",
       "4           4  Afghanistan          AFG  South Asia  Low income  2016   \n",
       "\n",
       "   Internet_Users  GDP_Per_Capita  Electricity_Access  \\\n",
       "0         5.45455     1988.429304                69.1   \n",
       "1         5.90000     2133.241271                68.0   \n",
       "2         7.00000     2224.490748                89.5   \n",
       "3         8.26000     2284.075848                71.5   \n",
       "4        11.00000     2213.181441                97.7   \n",
       "\n",
       "   Electricity_Access_Rural  ...  Literacy_Male  Literacy_Total   Pop_0_14  \\\n",
       "0                      60.8  ...      85.479461       81.376306  47.605305   \n",
       "1                      60.2  ...      85.479461       81.376306  47.161386   \n",
       "2                      86.5  ...      85.479461       81.376306  46.713066   \n",
       "3                      64.6  ...      50.212101       33.753841  46.259337   \n",
       "4                      97.1  ...      85.479461       81.376306  45.801449   \n",
       "\n",
       "   Pop_15_64  Pop_65_Above  Pop_Female   Pop_Male   Pop_Total  Pop_Rural  \\\n",
       "0  50.056783      2.337911   49.499771  50.500229  30560034.0     75.840   \n",
       "1  50.488845      2.349769   49.482650  50.517350  31622704.0     75.627   \n",
       "2  50.930398      2.356536   49.468115  50.531885  32792523.0     75.413   \n",
       "3  51.383968      2.356695   49.457202  50.542798  33831764.0     75.197   \n",
       "4  51.843054      2.355497   49.449550  50.550450  34700612.0     74.980   \n",
       "\n",
       "   Pop_Urban  \n",
       "0     24.160  \n",
       "1     24.373  \n",
       "2     24.587  \n",
       "3     24.803  \n",
       "4     25.020  \n",
       "\n",
       "[5 rows x 25 columns]"
      ]
     },
     "execution_count": 24,
     "metadata": {},
     "output_type": "execute_result"
    }
   ],
   "source": [
    "df_internet.head()"
   ]
  },
  {
   "cell_type": "markdown",
   "id": "ccaabb61-a851-420c-b808-cbe78042c213",
   "metadata": {},
   "source": [
    "## 2. Subsetting, wrangling and cleaning data"
   ]
  },
  {
   "cell_type": "code",
   "execution_count": 26,
   "id": "49b02d75-cd23-48c9-a0e6-f8b8d3481561",
   "metadata": {},
   "outputs": [],
   "source": [
    "df_internet.rename(columns = {'Country Name' : 'Country_Name', 'Country Code': 'Country_Code', 'IncomeGroup' : 'Income_Group'}, inplace= True)"
   ]
  },
  {
   "cell_type": "code",
   "execution_count": 27,
   "id": "65e6ae95-c498-4a72-b53c-6bbc8c7557e6",
   "metadata": {},
   "outputs": [
    {
     "data": {
      "text/html": [
       "<div>\n",
       "<style scoped>\n",
       "    .dataframe tbody tr th:only-of-type {\n",
       "        vertical-align: middle;\n",
       "    }\n",
       "\n",
       "    .dataframe tbody tr th {\n",
       "        vertical-align: top;\n",
       "    }\n",
       "\n",
       "    .dataframe thead th {\n",
       "        text-align: right;\n",
       "    }\n",
       "</style>\n",
       "<table border=\"1\" class=\"dataframe\">\n",
       "  <thead>\n",
       "    <tr style=\"text-align: right;\">\n",
       "      <th></th>\n",
       "      <th>Unnamed: 0</th>\n",
       "      <th>Country_Name</th>\n",
       "      <th>Country_Code</th>\n",
       "      <th>Region</th>\n",
       "      <th>Income_Group</th>\n",
       "      <th>Year</th>\n",
       "      <th>Internet_Users</th>\n",
       "      <th>GDP_Per_Capita</th>\n",
       "      <th>Electricity_Access</th>\n",
       "      <th>Electricity_Access_Rural</th>\n",
       "      <th>...</th>\n",
       "      <th>Literacy_Male</th>\n",
       "      <th>Literacy_Total</th>\n",
       "      <th>Pop_0_14</th>\n",
       "      <th>Pop_15_64</th>\n",
       "      <th>Pop_65_Above</th>\n",
       "      <th>Pop_Female</th>\n",
       "      <th>Pop_Male</th>\n",
       "      <th>Pop_Total</th>\n",
       "      <th>Pop_Rural</th>\n",
       "      <th>Pop_Urban</th>\n",
       "    </tr>\n",
       "  </thead>\n",
       "  <tbody>\n",
       "    <tr>\n",
       "      <th>0</th>\n",
       "      <td>0</td>\n",
       "      <td>Afghanistan</td>\n",
       "      <td>AFG</td>\n",
       "      <td>South Asia</td>\n",
       "      <td>Low income</td>\n",
       "      <td>2012</td>\n",
       "      <td>5.45455</td>\n",
       "      <td>1988.429304</td>\n",
       "      <td>69.1</td>\n",
       "      <td>60.8</td>\n",
       "      <td>...</td>\n",
       "      <td>85.479461</td>\n",
       "      <td>81.376306</td>\n",
       "      <td>47.605305</td>\n",
       "      <td>50.056783</td>\n",
       "      <td>2.337911</td>\n",
       "      <td>49.499771</td>\n",
       "      <td>50.500229</td>\n",
       "      <td>30560034.0</td>\n",
       "      <td>75.840</td>\n",
       "      <td>24.160</td>\n",
       "    </tr>\n",
       "    <tr>\n",
       "      <th>1</th>\n",
       "      <td>1</td>\n",
       "      <td>Afghanistan</td>\n",
       "      <td>AFG</td>\n",
       "      <td>South Asia</td>\n",
       "      <td>Low income</td>\n",
       "      <td>2013</td>\n",
       "      <td>5.90000</td>\n",
       "      <td>2133.241271</td>\n",
       "      <td>68.0</td>\n",
       "      <td>60.2</td>\n",
       "      <td>...</td>\n",
       "      <td>85.479461</td>\n",
       "      <td>81.376306</td>\n",
       "      <td>47.161386</td>\n",
       "      <td>50.488845</td>\n",
       "      <td>2.349769</td>\n",
       "      <td>49.482650</td>\n",
       "      <td>50.517350</td>\n",
       "      <td>31622704.0</td>\n",
       "      <td>75.627</td>\n",
       "      <td>24.373</td>\n",
       "    </tr>\n",
       "    <tr>\n",
       "      <th>2</th>\n",
       "      <td>2</td>\n",
       "      <td>Afghanistan</td>\n",
       "      <td>AFG</td>\n",
       "      <td>South Asia</td>\n",
       "      <td>Low income</td>\n",
       "      <td>2014</td>\n",
       "      <td>7.00000</td>\n",
       "      <td>2224.490748</td>\n",
       "      <td>89.5</td>\n",
       "      <td>86.5</td>\n",
       "      <td>...</td>\n",
       "      <td>85.479461</td>\n",
       "      <td>81.376306</td>\n",
       "      <td>46.713066</td>\n",
       "      <td>50.930398</td>\n",
       "      <td>2.356536</td>\n",
       "      <td>49.468115</td>\n",
       "      <td>50.531885</td>\n",
       "      <td>32792523.0</td>\n",
       "      <td>75.413</td>\n",
       "      <td>24.587</td>\n",
       "    </tr>\n",
       "    <tr>\n",
       "      <th>3</th>\n",
       "      <td>3</td>\n",
       "      <td>Afghanistan</td>\n",
       "      <td>AFG</td>\n",
       "      <td>South Asia</td>\n",
       "      <td>Low income</td>\n",
       "      <td>2015</td>\n",
       "      <td>8.26000</td>\n",
       "      <td>2284.075848</td>\n",
       "      <td>71.5</td>\n",
       "      <td>64.6</td>\n",
       "      <td>...</td>\n",
       "      <td>50.212101</td>\n",
       "      <td>33.753841</td>\n",
       "      <td>46.259337</td>\n",
       "      <td>51.383968</td>\n",
       "      <td>2.356695</td>\n",
       "      <td>49.457202</td>\n",
       "      <td>50.542798</td>\n",
       "      <td>33831764.0</td>\n",
       "      <td>75.197</td>\n",
       "      <td>24.803</td>\n",
       "    </tr>\n",
       "    <tr>\n",
       "      <th>4</th>\n",
       "      <td>4</td>\n",
       "      <td>Afghanistan</td>\n",
       "      <td>AFG</td>\n",
       "      <td>South Asia</td>\n",
       "      <td>Low income</td>\n",
       "      <td>2016</td>\n",
       "      <td>11.00000</td>\n",
       "      <td>2213.181441</td>\n",
       "      <td>97.7</td>\n",
       "      <td>97.1</td>\n",
       "      <td>...</td>\n",
       "      <td>85.479461</td>\n",
       "      <td>81.376306</td>\n",
       "      <td>45.801449</td>\n",
       "      <td>51.843054</td>\n",
       "      <td>2.355497</td>\n",
       "      <td>49.449550</td>\n",
       "      <td>50.550450</td>\n",
       "      <td>34700612.0</td>\n",
       "      <td>74.980</td>\n",
       "      <td>25.020</td>\n",
       "    </tr>\n",
       "  </tbody>\n",
       "</table>\n",
       "<p>5 rows × 25 columns</p>\n",
       "</div>"
      ],
      "text/plain": [
       "   Unnamed: 0 Country_Name Country_Code      Region Income_Group  Year  \\\n",
       "0           0  Afghanistan          AFG  South Asia   Low income  2012   \n",
       "1           1  Afghanistan          AFG  South Asia   Low income  2013   \n",
       "2           2  Afghanistan          AFG  South Asia   Low income  2014   \n",
       "3           3  Afghanistan          AFG  South Asia   Low income  2015   \n",
       "4           4  Afghanistan          AFG  South Asia   Low income  2016   \n",
       "\n",
       "   Internet_Users  GDP_Per_Capita  Electricity_Access  \\\n",
       "0         5.45455     1988.429304                69.1   \n",
       "1         5.90000     2133.241271                68.0   \n",
       "2         7.00000     2224.490748                89.5   \n",
       "3         8.26000     2284.075848                71.5   \n",
       "4        11.00000     2213.181441                97.7   \n",
       "\n",
       "   Electricity_Access_Rural  ...  Literacy_Male  Literacy_Total   Pop_0_14  \\\n",
       "0                      60.8  ...      85.479461       81.376306  47.605305   \n",
       "1                      60.2  ...      85.479461       81.376306  47.161386   \n",
       "2                      86.5  ...      85.479461       81.376306  46.713066   \n",
       "3                      64.6  ...      50.212101       33.753841  46.259337   \n",
       "4                      97.1  ...      85.479461       81.376306  45.801449   \n",
       "\n",
       "   Pop_15_64  Pop_65_Above  Pop_Female   Pop_Male   Pop_Total  Pop_Rural  \\\n",
       "0  50.056783      2.337911   49.499771  50.500229  30560034.0     75.840   \n",
       "1  50.488845      2.349769   49.482650  50.517350  31622704.0     75.627   \n",
       "2  50.930398      2.356536   49.468115  50.531885  32792523.0     75.413   \n",
       "3  51.383968      2.356695   49.457202  50.542798  33831764.0     75.197   \n",
       "4  51.843054      2.355497   49.449550  50.550450  34700612.0     74.980   \n",
       "\n",
       "   Pop_Urban  \n",
       "0     24.160  \n",
       "1     24.373  \n",
       "2     24.587  \n",
       "3     24.803  \n",
       "4     25.020  \n",
       "\n",
       "[5 rows x 25 columns]"
      ]
     },
     "execution_count": 27,
     "metadata": {},
     "output_type": "execute_result"
    }
   ],
   "source": [
    "df_internet.head()"
   ]
  },
  {
   "cell_type": "code",
   "execution_count": 28,
   "id": "9de19e8c-729d-4e67-9553-b48318811f9c",
   "metadata": {},
   "outputs": [
    {
     "data": {
      "text/plain": [
       "Unnamed: 0                    0\n",
       "Country_Name                  0\n",
       "Country_Code                  0\n",
       "Region                      391\n",
       "Income_Group                391\n",
       "Year                          0\n",
       "Internet_Users                0\n",
       "GDP_Per_Capita                0\n",
       "Electricity_Access            0\n",
       "Electricity_Access_Rural      0\n",
       "Electricity_Access_Urban      0\n",
       "Broadband_Subscriptions       0\n",
       "Life_Expectancy               0\n",
       "Sec_Edu_Duration              0\n",
       "Literacy_Female               0\n",
       "Literacy_Male                 0\n",
       "Literacy_Total                0\n",
       "Pop_0_14                      0\n",
       "Pop_15_64                     0\n",
       "Pop_65_Above                  0\n",
       "Pop_Female                    0\n",
       "Pop_Male                      0\n",
       "Pop_Total                     0\n",
       "Pop_Rural                     0\n",
       "Pop_Urban                     0\n",
       "dtype: int64"
      ]
     },
     "execution_count": 28,
     "metadata": {},
     "output_type": "execute_result"
    }
   ],
   "source": [
    "df_internet.isnull().sum()"
   ]
  },
  {
   "cell_type": "code",
   "execution_count": 29,
   "id": "1f9db4f9-04b3-4d94-93a9-d0476a39d614",
   "metadata": {},
   "outputs": [],
   "source": [
    "# Remove rows where Region or Income_Group have missing values\n",
    "df_cleaned = df_internet.dropna(subset=[\"Region\", \"Income_Group\"])"
   ]
  },
  {
   "cell_type": "code",
   "execution_count": 30,
   "id": "84199e1f-91f1-40a9-9bc4-0208b2624ede",
   "metadata": {},
   "outputs": [
    {
     "data": {
      "text/plain": [
       "Unnamed: 0                  0\n",
       "Country_Name                0\n",
       "Country_Code                0\n",
       "Region                      0\n",
       "Income_Group                0\n",
       "Year                        0\n",
       "Internet_Users              0\n",
       "GDP_Per_Capita              0\n",
       "Electricity_Access          0\n",
       "Electricity_Access_Rural    0\n",
       "Electricity_Access_Urban    0\n",
       "Broadband_Subscriptions     0\n",
       "Life_Expectancy             0\n",
       "Sec_Edu_Duration            0\n",
       "Literacy_Female             0\n",
       "Literacy_Male               0\n",
       "Literacy_Total              0\n",
       "Pop_0_14                    0\n",
       "Pop_15_64                   0\n",
       "Pop_65_Above                0\n",
       "Pop_Female                  0\n",
       "Pop_Male                    0\n",
       "Pop_Total                   0\n",
       "Pop_Rural                   0\n",
       "Pop_Urban                   0\n",
       "dtype: int64"
      ]
     },
     "execution_count": 30,
     "metadata": {},
     "output_type": "execute_result"
    }
   ],
   "source": [
    "df_cleaned.isnull().sum()"
   ]
  },
  {
   "cell_type": "code",
   "execution_count": 31,
   "id": "48bb0e1b-e758-4825-8a34-f44ee806aee7",
   "metadata": {},
   "outputs": [
    {
     "data": {
      "text/plain": [
       "Unnamed: 0                    int64\n",
       "Country_Name                 object\n",
       "Country_Code                 object\n",
       "Region                       object\n",
       "Income_Group                 object\n",
       "Year                          int64\n",
       "Internet_Users              float64\n",
       "GDP_Per_Capita              float64\n",
       "Electricity_Access          float64\n",
       "Electricity_Access_Rural    float64\n",
       "Electricity_Access_Urban    float64\n",
       "Broadband_Subscriptions     float64\n",
       "Life_Expectancy             float64\n",
       "Sec_Edu_Duration            float64\n",
       "Literacy_Female             float64\n",
       "Literacy_Male               float64\n",
       "Literacy_Total              float64\n",
       "Pop_0_14                    float64\n",
       "Pop_15_64                   float64\n",
       "Pop_65_Above                float64\n",
       "Pop_Female                  float64\n",
       "Pop_Male                    float64\n",
       "Pop_Total                   float64\n",
       "Pop_Rural                   float64\n",
       "Pop_Urban                   float64\n",
       "dtype: object"
      ]
     },
     "execution_count": 31,
     "metadata": {},
     "output_type": "execute_result"
    }
   ],
   "source": [
    "df_cleaned.dtypes"
   ]
  },
  {
   "cell_type": "code",
   "execution_count": 32,
   "id": "c89b63af-3ad3-4c03-be6f-650839be98e5",
   "metadata": {},
   "outputs": [
    {
     "data": {
      "text/html": [
       "<div>\n",
       "<style scoped>\n",
       "    .dataframe tbody tr th:only-of-type {\n",
       "        vertical-align: middle;\n",
       "    }\n",
       "\n",
       "    .dataframe tbody tr th {\n",
       "        vertical-align: top;\n",
       "    }\n",
       "\n",
       "    .dataframe thead th {\n",
       "        text-align: right;\n",
       "    }\n",
       "</style>\n",
       "<table border=\"1\" class=\"dataframe\">\n",
       "  <thead>\n",
       "    <tr style=\"text-align: right;\">\n",
       "      <th></th>\n",
       "      <th>Unnamed: 0</th>\n",
       "      <th>Country_Name</th>\n",
       "      <th>Country_Code</th>\n",
       "      <th>Region</th>\n",
       "      <th>Income_Group</th>\n",
       "      <th>Year</th>\n",
       "      <th>Internet_Users</th>\n",
       "      <th>GDP_Per_Capita</th>\n",
       "      <th>Electricity_Access</th>\n",
       "      <th>Electricity_Access_Rural</th>\n",
       "      <th>...</th>\n",
       "      <th>Literacy_Male</th>\n",
       "      <th>Literacy_Total</th>\n",
       "      <th>Pop_0_14</th>\n",
       "      <th>Pop_15_64</th>\n",
       "      <th>Pop_65_Above</th>\n",
       "      <th>Pop_Female</th>\n",
       "      <th>Pop_Male</th>\n",
       "      <th>Pop_Total</th>\n",
       "      <th>Pop_Rural</th>\n",
       "      <th>Pop_Urban</th>\n",
       "    </tr>\n",
       "  </thead>\n",
       "  <tbody>\n",
       "    <tr>\n",
       "      <th>0</th>\n",
       "      <td>0</td>\n",
       "      <td>Afghanistan</td>\n",
       "      <td>AFG</td>\n",
       "      <td>South Asia</td>\n",
       "      <td>Low income</td>\n",
       "      <td>2012</td>\n",
       "      <td>5.45455</td>\n",
       "      <td>1988.429304</td>\n",
       "      <td>69.1</td>\n",
       "      <td>60.8</td>\n",
       "      <td>...</td>\n",
       "      <td>85.479461</td>\n",
       "      <td>81.376306</td>\n",
       "      <td>47.605305</td>\n",
       "      <td>50.056783</td>\n",
       "      <td>2.337911</td>\n",
       "      <td>49.499771</td>\n",
       "      <td>50.500229</td>\n",
       "      <td>30560034.0</td>\n",
       "      <td>75.840</td>\n",
       "      <td>24.160</td>\n",
       "    </tr>\n",
       "    <tr>\n",
       "      <th>1</th>\n",
       "      <td>1</td>\n",
       "      <td>Afghanistan</td>\n",
       "      <td>AFG</td>\n",
       "      <td>South Asia</td>\n",
       "      <td>Low income</td>\n",
       "      <td>2013</td>\n",
       "      <td>5.90000</td>\n",
       "      <td>2133.241271</td>\n",
       "      <td>68.0</td>\n",
       "      <td>60.2</td>\n",
       "      <td>...</td>\n",
       "      <td>85.479461</td>\n",
       "      <td>81.376306</td>\n",
       "      <td>47.161386</td>\n",
       "      <td>50.488845</td>\n",
       "      <td>2.349769</td>\n",
       "      <td>49.482650</td>\n",
       "      <td>50.517350</td>\n",
       "      <td>31622704.0</td>\n",
       "      <td>75.627</td>\n",
       "      <td>24.373</td>\n",
       "    </tr>\n",
       "    <tr>\n",
       "      <th>2</th>\n",
       "      <td>2</td>\n",
       "      <td>Afghanistan</td>\n",
       "      <td>AFG</td>\n",
       "      <td>South Asia</td>\n",
       "      <td>Low income</td>\n",
       "      <td>2014</td>\n",
       "      <td>7.00000</td>\n",
       "      <td>2224.490748</td>\n",
       "      <td>89.5</td>\n",
       "      <td>86.5</td>\n",
       "      <td>...</td>\n",
       "      <td>85.479461</td>\n",
       "      <td>81.376306</td>\n",
       "      <td>46.713066</td>\n",
       "      <td>50.930398</td>\n",
       "      <td>2.356536</td>\n",
       "      <td>49.468115</td>\n",
       "      <td>50.531885</td>\n",
       "      <td>32792523.0</td>\n",
       "      <td>75.413</td>\n",
       "      <td>24.587</td>\n",
       "    </tr>\n",
       "    <tr>\n",
       "      <th>3</th>\n",
       "      <td>3</td>\n",
       "      <td>Afghanistan</td>\n",
       "      <td>AFG</td>\n",
       "      <td>South Asia</td>\n",
       "      <td>Low income</td>\n",
       "      <td>2015</td>\n",
       "      <td>8.26000</td>\n",
       "      <td>2284.075848</td>\n",
       "      <td>71.5</td>\n",
       "      <td>64.6</td>\n",
       "      <td>...</td>\n",
       "      <td>50.212101</td>\n",
       "      <td>33.753841</td>\n",
       "      <td>46.259337</td>\n",
       "      <td>51.383968</td>\n",
       "      <td>2.356695</td>\n",
       "      <td>49.457202</td>\n",
       "      <td>50.542798</td>\n",
       "      <td>33831764.0</td>\n",
       "      <td>75.197</td>\n",
       "      <td>24.803</td>\n",
       "    </tr>\n",
       "    <tr>\n",
       "      <th>4</th>\n",
       "      <td>4</td>\n",
       "      <td>Afghanistan</td>\n",
       "      <td>AFG</td>\n",
       "      <td>South Asia</td>\n",
       "      <td>Low income</td>\n",
       "      <td>2016</td>\n",
       "      <td>11.00000</td>\n",
       "      <td>2213.181441</td>\n",
       "      <td>97.7</td>\n",
       "      <td>97.1</td>\n",
       "      <td>...</td>\n",
       "      <td>85.479461</td>\n",
       "      <td>81.376306</td>\n",
       "      <td>45.801449</td>\n",
       "      <td>51.843054</td>\n",
       "      <td>2.355497</td>\n",
       "      <td>49.449550</td>\n",
       "      <td>50.550450</td>\n",
       "      <td>34700612.0</td>\n",
       "      <td>74.980</td>\n",
       "      <td>25.020</td>\n",
       "    </tr>\n",
       "  </tbody>\n",
       "</table>\n",
       "<p>5 rows × 25 columns</p>\n",
       "</div>"
      ],
      "text/plain": [
       "   Unnamed: 0 Country_Name Country_Code      Region Income_Group  Year  \\\n",
       "0           0  Afghanistan          AFG  South Asia   Low income  2012   \n",
       "1           1  Afghanistan          AFG  South Asia   Low income  2013   \n",
       "2           2  Afghanistan          AFG  South Asia   Low income  2014   \n",
       "3           3  Afghanistan          AFG  South Asia   Low income  2015   \n",
       "4           4  Afghanistan          AFG  South Asia   Low income  2016   \n",
       "\n",
       "   Internet_Users  GDP_Per_Capita  Electricity_Access  \\\n",
       "0         5.45455     1988.429304                69.1   \n",
       "1         5.90000     2133.241271                68.0   \n",
       "2         7.00000     2224.490748                89.5   \n",
       "3         8.26000     2284.075848                71.5   \n",
       "4        11.00000     2213.181441                97.7   \n",
       "\n",
       "   Electricity_Access_Rural  ...  Literacy_Male  Literacy_Total   Pop_0_14  \\\n",
       "0                      60.8  ...      85.479461       81.376306  47.605305   \n",
       "1                      60.2  ...      85.479461       81.376306  47.161386   \n",
       "2                      86.5  ...      85.479461       81.376306  46.713066   \n",
       "3                      64.6  ...      50.212101       33.753841  46.259337   \n",
       "4                      97.1  ...      85.479461       81.376306  45.801449   \n",
       "\n",
       "   Pop_15_64  Pop_65_Above  Pop_Female   Pop_Male   Pop_Total  Pop_Rural  \\\n",
       "0  50.056783      2.337911   49.499771  50.500229  30560034.0     75.840   \n",
       "1  50.488845      2.349769   49.482650  50.517350  31622704.0     75.627   \n",
       "2  50.930398      2.356536   49.468115  50.531885  32792523.0     75.413   \n",
       "3  51.383968      2.356695   49.457202  50.542798  33831764.0     75.197   \n",
       "4  51.843054      2.355497   49.449550  50.550450  34700612.0     74.980   \n",
       "\n",
       "   Pop_Urban  \n",
       "0     24.160  \n",
       "1     24.373  \n",
       "2     24.587  \n",
       "3     24.803  \n",
       "4     25.020  \n",
       "\n",
       "[5 rows x 25 columns]"
      ]
     },
     "execution_count": 32,
     "metadata": {},
     "output_type": "execute_result"
    }
   ],
   "source": [
    "df_cleaned.head()"
   ]
  },
  {
   "cell_type": "code",
   "execution_count": 33,
   "id": "0f3376e7-f013-4b3b-8b56-61d62d59b0a6",
   "metadata": {},
   "outputs": [],
   "source": [
    "df = df_cleaned.drop(columns = ['Unnamed: 0'])"
   ]
  },
  {
   "cell_type": "code",
   "execution_count": 34,
   "id": "85a0c430-76fc-422a-897a-922b2d75d944",
   "metadata": {},
   "outputs": [
    {
     "data": {
      "text/plain": [
       "Country_Name                 object\n",
       "Country_Code                 object\n",
       "Region                       object\n",
       "Income_Group                 object\n",
       "Year                          int64\n",
       "Internet_Users              float64\n",
       "GDP_Per_Capita              float64\n",
       "Electricity_Access          float64\n",
       "Electricity_Access_Rural    float64\n",
       "Electricity_Access_Urban    float64\n",
       "Broadband_Subscriptions     float64\n",
       "Life_Expectancy             float64\n",
       "Sec_Edu_Duration            float64\n",
       "Literacy_Female             float64\n",
       "Literacy_Male               float64\n",
       "Literacy_Total              float64\n",
       "Pop_0_14                    float64\n",
       "Pop_15_64                   float64\n",
       "Pop_65_Above                float64\n",
       "Pop_Female                  float64\n",
       "Pop_Male                    float64\n",
       "Pop_Total                   float64\n",
       "Pop_Rural                   float64\n",
       "Pop_Urban                   float64\n",
       "dtype: object"
      ]
     },
     "execution_count": 34,
     "metadata": {},
     "output_type": "execute_result"
    }
   ],
   "source": [
    "df.dtypes"
   ]
  },
  {
   "cell_type": "code",
   "execution_count": 35,
   "id": "7cbb01d8-b9e3-425e-a64a-fb07aaccef20",
   "metadata": {},
   "outputs": [],
   "source": [
    "# Save the cleaned dataset\n",
    "df=df_cleaned.to_csv(os.path.join(path, '02 Data','Prepared Data', 'clean_final_dataset.csv'), index=False)"
   ]
  },
  {
   "cell_type": "code",
   "execution_count": 36,
   "id": "eecc87ae-72d9-435a-9052-744e20185ae5",
   "metadata": {},
   "outputs": [],
   "source": [
    "# Create a subset with the desired columns\n",
    "# Create a subset with only India and the relevant columns\n",
    "df_brazil = df_cleaned[df_cleaned[\"Country_Name\"] == \"Brazil\"][[\"Year\", \"Internet_Users\"]]"
   ]
  },
  {
   "cell_type": "markdown",
   "id": "a5d1a864-3073-4719-9bca-5b8795eae211",
   "metadata": {},
   "source": [
    "## Subsetting explanation:\n",
    "I needed to reduce the country data points otherwise there would have been well over 200 lines in the plot making it unreadale. Brazil was one of the countries that interested me that had no missing year data. That is why I chose Brazil The whole point of my dataset is to see the influence different variables have on the internet usage, that is why I chose this variable to plot. "
   ]
  },
  {
   "cell_type": "code",
   "execution_count": 38,
   "id": "e9200f73-34a4-4de3-b9c5-6a98280e5f76",
   "metadata": {},
   "outputs": [
    {
     "data": {
      "text/html": [
       "<div>\n",
       "<style scoped>\n",
       "    .dataframe tbody tr th:only-of-type {\n",
       "        vertical-align: middle;\n",
       "    }\n",
       "\n",
       "    .dataframe tbody tr th {\n",
       "        vertical-align: top;\n",
       "    }\n",
       "\n",
       "    .dataframe thead th {\n",
       "        text-align: right;\n",
       "    }\n",
       "</style>\n",
       "<table border=\"1\" class=\"dataframe\">\n",
       "  <thead>\n",
       "    <tr style=\"text-align: right;\">\n",
       "      <th></th>\n",
       "      <th>Year</th>\n",
       "      <th>Internet_Users</th>\n",
       "    </tr>\n",
       "  </thead>\n",
       "  <tbody>\n",
       "    <tr>\n",
       "      <th>265</th>\n",
       "      <td>2012</td>\n",
       "      <td>48.5600</td>\n",
       "    </tr>\n",
       "    <tr>\n",
       "      <th>266</th>\n",
       "      <td>2013</td>\n",
       "      <td>51.0400</td>\n",
       "    </tr>\n",
       "    <tr>\n",
       "      <th>267</th>\n",
       "      <td>2014</td>\n",
       "      <td>54.5510</td>\n",
       "    </tr>\n",
       "    <tr>\n",
       "      <th>268</th>\n",
       "      <td>2015</td>\n",
       "      <td>58.3280</td>\n",
       "    </tr>\n",
       "    <tr>\n",
       "      <th>269</th>\n",
       "      <td>2016</td>\n",
       "      <td>60.8725</td>\n",
       "    </tr>\n",
       "  </tbody>\n",
       "</table>\n",
       "</div>"
      ],
      "text/plain": [
       "     Year  Internet_Users\n",
       "265  2012         48.5600\n",
       "266  2013         51.0400\n",
       "267  2014         54.5510\n",
       "268  2015         58.3280\n",
       "269  2016         60.8725"
      ]
     },
     "execution_count": 38,
     "metadata": {},
     "output_type": "execute_result"
    }
   ],
   "source": [
    "df_brazil.head()"
   ]
  },
  {
   "cell_type": "code",
   "execution_count": 39,
   "id": "723e175d-a0a5-42c1-8e38-527449efe0dd",
   "metadata": {},
   "outputs": [
    {
     "data": {
      "text/html": [
       "<div>\n",
       "<style scoped>\n",
       "    .dataframe tbody tr th:only-of-type {\n",
       "        vertical-align: middle;\n",
       "    }\n",
       "\n",
       "    .dataframe tbody tr th {\n",
       "        vertical-align: top;\n",
       "    }\n",
       "\n",
       "    .dataframe thead th {\n",
       "        text-align: right;\n",
       "    }\n",
       "</style>\n",
       "<table border=\"1\" class=\"dataframe\">\n",
       "  <thead>\n",
       "    <tr style=\"text-align: right;\">\n",
       "      <th></th>\n",
       "      <th>Year</th>\n",
       "      <th>Internet_Users</th>\n",
       "    </tr>\n",
       "  </thead>\n",
       "  <tbody>\n",
       "    <tr>\n",
       "      <th>0</th>\n",
       "      <td>2012</td>\n",
       "      <td>48.5600</td>\n",
       "    </tr>\n",
       "    <tr>\n",
       "      <th>1</th>\n",
       "      <td>2013</td>\n",
       "      <td>51.0400</td>\n",
       "    </tr>\n",
       "    <tr>\n",
       "      <th>2</th>\n",
       "      <td>2014</td>\n",
       "      <td>54.5510</td>\n",
       "    </tr>\n",
       "    <tr>\n",
       "      <th>3</th>\n",
       "      <td>2015</td>\n",
       "      <td>58.3280</td>\n",
       "    </tr>\n",
       "    <tr>\n",
       "      <th>4</th>\n",
       "      <td>2016</td>\n",
       "      <td>60.8725</td>\n",
       "    </tr>\n",
       "    <tr>\n",
       "      <th>5</th>\n",
       "      <td>2017</td>\n",
       "      <td>67.4713</td>\n",
       "    </tr>\n",
       "    <tr>\n",
       "      <th>6</th>\n",
       "      <td>2018</td>\n",
       "      <td>70.4343</td>\n",
       "    </tr>\n",
       "    <tr>\n",
       "      <th>7</th>\n",
       "      <td>2019</td>\n",
       "      <td>73.9124</td>\n",
       "    </tr>\n",
       "    <tr>\n",
       "      <th>8</th>\n",
       "      <td>2020</td>\n",
       "      <td>81.3427</td>\n",
       "    </tr>\n",
       "    <tr>\n",
       "      <th>9</th>\n",
       "      <td>2021</td>\n",
       "      <td>80.6899</td>\n",
       "    </tr>\n",
       "    <tr>\n",
       "      <th>10</th>\n",
       "      <td>2022</td>\n",
       "      <td>80.5278</td>\n",
       "    </tr>\n",
       "  </tbody>\n",
       "</table>\n",
       "</div>"
      ],
      "text/plain": [
       "    Year  Internet_Users\n",
       "0   2012         48.5600\n",
       "1   2013         51.0400\n",
       "2   2014         54.5510\n",
       "3   2015         58.3280\n",
       "4   2016         60.8725\n",
       "5   2017         67.4713\n",
       "6   2018         70.4343\n",
       "7   2019         73.9124\n",
       "8   2020         81.3427\n",
       "9   2021         80.6899\n",
       "10  2022         80.5278"
      ]
     },
     "execution_count": 39,
     "metadata": {},
     "output_type": "execute_result"
    }
   ],
   "source": [
    "# Turn df_sub into data frame\n",
    "df_sub = df_brazil.reset_index(drop=True)\n",
    "df_sub"
   ]
  },
  {
   "cell_type": "code",
   "execution_count": 40,
   "id": "3f7273d1-c7d1-4cb5-822f-dce2b5934346",
   "metadata": {},
   "outputs": [
    {
     "data": {
      "text/html": [
       "<div>\n",
       "<style scoped>\n",
       "    .dataframe tbody tr th:only-of-type {\n",
       "        vertical-align: middle;\n",
       "    }\n",
       "\n",
       "    .dataframe tbody tr th {\n",
       "        vertical-align: top;\n",
       "    }\n",
       "\n",
       "    .dataframe thead th {\n",
       "        text-align: right;\n",
       "    }\n",
       "</style>\n",
       "<table border=\"1\" class=\"dataframe\">\n",
       "  <thead>\n",
       "    <tr style=\"text-align: right;\">\n",
       "      <th></th>\n",
       "      <th>Internet_Users</th>\n",
       "    </tr>\n",
       "    <tr>\n",
       "      <th>datetime</th>\n",
       "      <th></th>\n",
       "    </tr>\n",
       "  </thead>\n",
       "  <tbody>\n",
       "    <tr>\n",
       "      <th>2012-01-01</th>\n",
       "      <td>48.5600</td>\n",
       "    </tr>\n",
       "    <tr>\n",
       "      <th>2013-01-01</th>\n",
       "      <td>51.0400</td>\n",
       "    </tr>\n",
       "    <tr>\n",
       "      <th>2014-01-01</th>\n",
       "      <td>54.5510</td>\n",
       "    </tr>\n",
       "    <tr>\n",
       "      <th>2015-01-01</th>\n",
       "      <td>58.3280</td>\n",
       "    </tr>\n",
       "    <tr>\n",
       "      <th>2016-01-01</th>\n",
       "      <td>60.8725</td>\n",
       "    </tr>\n",
       "  </tbody>\n",
       "</table>\n",
       "</div>"
      ],
      "text/plain": [
       "            Internet_Users\n",
       "datetime                  \n",
       "2012-01-01         48.5600\n",
       "2013-01-01         51.0400\n",
       "2014-01-01         54.5510\n",
       "2015-01-01         58.3280\n",
       "2016-01-01         60.8725"
      ]
     },
     "execution_count": 40,
     "metadata": {},
     "output_type": "execute_result"
    }
   ],
   "source": [
    "df_sub['datetime'] = pd.to_datetime(df_sub['Year'], format='%Y') # Create a datetime column from \"Year\"\n",
    "df_sub = df_sub.set_index('datetime') # Set the datetime as the index of the dataframe.\n",
    "df_sub.drop(['Year'], axis=1, inplace=True) # Drop the \"Date\" column.\n",
    "df_sub.head()"
   ]
  },
  {
   "cell_type": "code",
   "execution_count": 41,
   "id": "359f6aa1-e991-431f-814d-028e20b684b5",
   "metadata": {},
   "outputs": [
    {
     "data": {
      "image/png": "[encoded data removed]",
      "text/plain": [
       "<Figure size 1500x500 with 1 Axes>"
      ]
     },
     "metadata": {},
     "output_type": "display_data"
    }
   ],
   "source": [
    "# Plot the new data set\n",
    "\n",
    "plt.figure(figsize=(15,5), dpi=100)\n",
    "plt.plot(df_sub)\n",
    "\n",
    "plt.legend()\n",
    "plt.title(\"Internet Users in Brazil (2012-2022)\")\n",
    "plt.xlabel(\"Year\")\n",
    "plt.ylabel(\"Internet Users\")\n",
    "plt.show()"
   ]
  },
  {
   "cell_type": "code",
   "execution_count": 42,
   "id": "b753a3a9-6a40-4d33-a288-80d78bea982e",
   "metadata": {},
   "outputs": [
    {
     "data": {
      "text/plain": [
       "Internet_Users    0\n",
       "dtype: int64"
      ]
     },
     "execution_count": 42,
     "metadata": {},
     "output_type": "execute_result"
    }
   ],
   "source": [
    "df_sub.isnull().sum()"
   ]
  },
  {
   "cell_type": "code",
   "execution_count": 43,
   "id": "fafe06d3-4247-494f-a41f-266bf7016693",
   "metadata": {},
   "outputs": [
    {
     "data": {
      "text/plain": [
       "Index(['Internet_Users'], dtype='object')"
      ]
     },
     "execution_count": 43,
     "metadata": {},
     "output_type": "execute_result"
    }
   ],
   "source": [
    "df_sub.columns"
   ]
  },
  {
   "cell_type": "markdown",
   "id": "c1055655-9558-4c52-9894-9436aaf24fea",
   "metadata": {},
   "source": [
    "## 3. Time series analysis: decomposition"
   ]
  },
  {
   "cell_type": "code",
   "execution_count": 45,
   "id": "d04fcaef-a7a5-4e87-8010-aadcd8c2e383",
   "metadata": {},
   "outputs": [
    {
     "name": "stdout",
     "output_type": "stream",
     "text": [
      "DatetimeIndex(['2012-01-01', '2013-01-01', '2014-01-01', '2015-01-01',\n",
      "               '2016-01-01', '2017-01-01', '2018-01-01', '2019-01-01',\n",
      "               '2020-01-01', '2021-01-01', '2022-01-01'],\n",
      "              dtype='datetime64[ns]', name='datetime', freq=None)\n",
      "datetime64[ns]\n"
     ]
    }
   ],
   "source": [
    "print(df_sub.index)  # Check if the index already contains yearly dates\n",
    "print(df_sub.index.dtype)  # Verify if it's a datetime type"
   ]
  },
  {
   "cell_type": "code",
   "execution_count": 46,
   "id": "8970e2b6-7136-443b-80da-08b4ab207a9c",
   "metadata": {},
   "outputs": [],
   "source": [
    "# Decompose the time series using an additive model\n",
    "\n",
    "decomposition = sm.tsa.seasonal_decompose(df_sub, model='additive')"
   ]
  },
  {
   "cell_type": "code",
   "execution_count": 47,
   "id": "f72de0e4-dd37-48dc-978d-589bbe19c36e",
   "metadata": {},
   "outputs": [],
   "source": [
    "from pylab import rcParams # This will define a fixed size for all special charts.\n",
    "\n",
    "rcParams['figure.figsize'] = 18, 7"
   ]
  },
  {
   "cell_type": "code",
   "execution_count": 48,
   "id": "305b33f9-0082-4cc7-96d9-ae611628eaca",
   "metadata": {},
   "outputs": [
    {
     "data": {
      "image/png": "[encoded data removed]",
      "text/plain": [
       "<Figure size 1800x700 with 4 Axes>"
      ]
     },
     "metadata": {},
     "output_type": "display_data"
    }
   ],
   "source": [
    "# Plot the separate components\n",
    "\n",
    "decomposition.plot()\n",
    "plt.show()"
   ]
  },
  {
   "cell_type": "markdown",
   "id": "bc98fd00-8a97-4caf-870c-0b97d1eddf9d",
   "metadata": {},
   "source": [
    "## Decomposition explanation\n",
    "The first chart is the level. This is just the data itself including all its components.\n",
    "The second chart is the trend. There is a gradual increase over time that plateaus in the year 2020, possibly due to the Corona Pandemic. The trend line compared to the level are very similar.\n",
    "The third chart is the seasonality. There is no seasonality in this data.\n",
    "The 4th chart is the noise or \"residual'. There is no noise what so ever not even in the Corona period startin from 2020, which is a bit astonishing.\n",
    "\n",
    "Given the presence of the upward trend this data is considered non-stationary even if it plateaus at 800% in 2020. "
   ]
  },
  {
   "cell_type": "markdown",
   "id": "eb3ada84-a1b1-44bf-96ce-e0c3056cc784",
   "metadata": {},
   "source": [
    "## 4. Testing for Stationarity"
   ]
  },
  {
   "cell_type": "code",
   "execution_count": 51,
   "id": "a7a40d8d-be7c-43ba-96b5-d2d3871b72f6",
   "metadata": {},
   "outputs": [
    {
     "name": "stdout",
     "output_type": "stream",
     "text": [
      "Dickey-Fuller Stationarity test:\n",
      "Test Statistic                -2.461797\n",
      "p-value                        0.125048\n",
      "Number of Lags Used            3.000000\n",
      "Number of Observations Used    7.000000\n",
      "Critical Value (1%)           -4.938690\n",
      "Critical Value (5%)           -3.477583\n",
      "Critical Value (10%)          -2.843868\n",
      "dtype: float64\n"
     ]
    }
   ],
   "source": [
    "from statsmodels.tsa.stattools import adfuller # Import the adfuller() function\n",
    "\n",
    "def dickey_fuller(timeseries): # Define the function\n",
    "    # Perform the Dickey-Fuller test:\n",
    "    print ('Dickey-Fuller Stationarity test:')\n",
    "    test = adfuller(timeseries, autolag='AIC')\n",
    "    result = pd.Series(test[0:4], index=['Test Statistic','p-value','Number of Lags Used','Number of Observations Used'])\n",
    "    for key,value in test[4].items():\n",
    "       result['Critical Value (%s)'%key] = value\n",
    "    print (result)\n",
    "\n",
    "# Apply the test using the function on the time series\n",
    "dickey_fuller(df_sub['Internet_Users'])"
   ]
  },
  {
   "attachments": {},
   "cell_type": "markdown",
   "id": "77d2a0ea-be0e-45d7-9a2b-b2603420d812",
   "metadata": {},
   "source": [
    "## Dickey Fuller test interpretation\n",
    "The test statistic is much larger than the critical value of 5%, so I cannot reject my null hypotesis.\n",
    "Null hypothesis: there is a root unit = random jump that cannot be explained by variation in the data.\n",
    "This means the data is non-stationary"
   ]
  },
  {
   "cell_type": "code",
   "execution_count": 53,
   "id": "1a546ef8-df65-4017-a3cc-a6292fd21555",
   "metadata": {},
   "outputs": [
    {
     "data": {
      "image/png": "[encoded data removed]",
      "text/plain": [
       "<Figure size 1800x700 with 1 Axes>"
      ]
     },
     "metadata": {},
     "output_type": "display_data"
    }
   ],
   "source": [
    "# Check out a plot of autocorrelations\n",
    "\n",
    "from statsmodels.graphics.tsaplots import plot_acf, plot_pacf # Here, you import the autocorrelation and partial correlation plots\n",
    "\n",
    "plot_acf(df_sub)\n",
    "plt.show()"
   ]
  },
  {
   "cell_type": "markdown",
   "id": "43014bf9-7662-4c5a-b3e6-66c77f3ea167",
   "metadata": {},
   "source": [
    "## 5. Stationarizing the dataset"
   ]
  },
  {
   "cell_type": "code",
   "execution_count": 55,
   "id": "04fcbda0-653e-44a4-93b5-96be9da3a379",
   "metadata": {},
   "outputs": [],
   "source": [
    "data_diff = df_sub - df_sub.shift(1) # The df.shift(1) function turns the observation to t-1, making the whole thing t - (t -1)"
   ]
  },
  {
   "cell_type": "code",
   "execution_count": 56,
   "id": "3b3ad136-c462-4f40-91db-a9ffef764582",
   "metadata": {},
   "outputs": [],
   "source": [
    "data_diff.dropna(inplace = True) # Here, you remove the missing values that came about as a result of the differencing. \n",
    "# You need to remove these or you won't be able to run the Dickey-Fuller test."
   ]
  },
  {
   "cell_type": "code",
   "execution_count": 57,
   "id": "0e6beac6-f944-428f-8756-3e19a3807493",
   "metadata": {},
   "outputs": [
    {
     "data": {
      "text/html": [
       "<div>\n",
       "<style scoped>\n",
       "    .dataframe tbody tr th:only-of-type {\n",
       "        vertical-align: middle;\n",
       "    }\n",
       "\n",
       "    .dataframe tbody tr th {\n",
       "        vertical-align: top;\n",
       "    }\n",
       "\n",
       "    .dataframe thead th {\n",
       "        text-align: right;\n",
       "    }\n",
       "</style>\n",
       "<table border=\"1\" class=\"dataframe\">\n",
       "  <thead>\n",
       "    <tr style=\"text-align: right;\">\n",
       "      <th></th>\n",
       "      <th>Internet_Users</th>\n",
       "    </tr>\n",
       "    <tr>\n",
       "      <th>datetime</th>\n",
       "      <th></th>\n",
       "    </tr>\n",
       "  </thead>\n",
       "  <tbody>\n",
       "    <tr>\n",
       "      <th>2013-01-01</th>\n",
       "      <td>2.4800</td>\n",
       "    </tr>\n",
       "    <tr>\n",
       "      <th>2014-01-01</th>\n",
       "      <td>3.5110</td>\n",
       "    </tr>\n",
       "    <tr>\n",
       "      <th>2015-01-01</th>\n",
       "      <td>3.7770</td>\n",
       "    </tr>\n",
       "    <tr>\n",
       "      <th>2016-01-01</th>\n",
       "      <td>2.5445</td>\n",
       "    </tr>\n",
       "    <tr>\n",
       "      <th>2017-01-01</th>\n",
       "      <td>6.5988</td>\n",
       "    </tr>\n",
       "  </tbody>\n",
       "</table>\n",
       "</div>"
      ],
      "text/plain": [
       "            Internet_Users\n",
       "datetime                  \n",
       "2013-01-01          2.4800\n",
       "2014-01-01          3.5110\n",
       "2015-01-01          3.7770\n",
       "2016-01-01          2.5445\n",
       "2017-01-01          6.5988"
      ]
     },
     "execution_count": 57,
     "metadata": {},
     "output_type": "execute_result"
    }
   ],
   "source": [
    "data_diff.head()"
   ]
  },
  {
   "cell_type": "code",
   "execution_count": 58,
   "id": "cec2041b-db7d-4532-a7b2-b408b003aeb4",
   "metadata": {},
   "outputs": [
    {
     "data": {
      "text/plain": [
       "[<matplotlib.lines.Line2D at 0x2cd53bc3b30>]"
      ]
     },
     "execution_count": 58,
     "metadata": {},
     "output_type": "execute_result"
    },
    {
     "data": {
      "image/png": "[encoded data removed]",
      "text/plain": [
       "<Figure size 1500x500 with 1 Axes>"
      ]
     },
     "metadata": {},
     "output_type": "display_data"
    }
   ],
   "source": [
    "# Check out what the differencing did to the time-series curve\n",
    "\n",
    "plt.figure(figsize=(15,5), dpi=100)\n",
    "plt.plot(data_diff)"
   ]
  },
  {
   "cell_type": "code",
   "execution_count": 59,
   "id": "9805a4fe-f87e-446e-8533-ee8f863c3b37",
   "metadata": {},
   "outputs": [
    {
     "name": "stdout",
     "output_type": "stream",
     "text": [
      "Dickey-Fuller Stationarity test:\n",
      "Test Statistic                -2.709569\n",
      "p-value                        0.072397\n",
      "Number of Lags Used            1.000000\n",
      "Number of Observations Used    8.000000\n",
      "Critical Value (1%)           -4.665186\n",
      "Critical Value (5%)           -3.367187\n",
      "Critical Value (10%)          -2.802961\n",
      "dtype: float64\n"
     ]
    }
   ],
   "source": [
    "dickey_fuller(data_diff)"
   ]
  },
  {
   "cell_type": "markdown",
   "id": "0563b1de-4dec-4a4b-a03d-06d461bebea2",
   "metadata": {},
   "source": [
    "## Data is not stationary yet so I do another round of differencing."
   ]
  },
  {
   "cell_type": "code",
   "execution_count": 61,
   "id": "9ef2615d-6f80-4eef-b1cd-9718b0b02bd1",
   "metadata": {},
   "outputs": [],
   "source": [
    "data_diff2 = data_diff - data_diff.shift(1)  # Second-order differencing\n",
    "data_diff2.dropna(inplace=True)  # Remove NaN values"
   ]
  },
  {
   "cell_type": "code",
   "execution_count": 62,
   "id": "4b4f5926-e898-4a6c-934a-00ed45b19e7d",
   "metadata": {},
   "outputs": [],
   "source": [
    "data_diff2.dropna(inplace = True) # Here, you remove the missing values that came about as a result of the differencing. \n",
    "# You need to remove these or you won't be able to run the Dickey-Fuller test."
   ]
  },
  {
   "cell_type": "code",
   "execution_count": 63,
   "id": "f27f8431-f9bc-4090-9fd8-026782b664f1",
   "metadata": {},
   "outputs": [
    {
     "data": {
      "text/plain": [
       "[<matplotlib.lines.Line2D at 0x2cd53d37e60>]"
      ]
     },
     "execution_count": 63,
     "metadata": {},
     "output_type": "execute_result"
    },
    {
     "data": {
      "image/png": "[encoded data removed]",
      "text/plain": [
       "<Figure size 1500x500 with 1 Axes>"
      ]
     },
     "metadata": {},
     "output_type": "display_data"
    }
   ],
   "source": [
    "# Check out what the differencing did to the time-series curve\n",
    "\n",
    "plt.figure(figsize=(15,5), dpi=100)\n",
    "plt.plot(data_diff2)"
   ]
  },
  {
   "cell_type": "code",
   "execution_count": 64,
   "id": "28a4f398-c301-4af1-931e-ec7fb54b90c7",
   "metadata": {},
   "outputs": [
    {
     "name": "stdout",
     "output_type": "stream",
     "text": [
      "Dickey-Fuller Stationarity test:\n",
      "Test Statistic                 0.398574\n",
      "p-value                        0.981442\n",
      "Number of Lags Used            2.000000\n",
      "Number of Observations Used    6.000000\n",
      "Critical Value (1%)           -5.354256\n",
      "Critical Value (5%)           -3.646238\n",
      "Critical Value (10%)          -2.901198\n",
      "dtype: float64\n"
     ]
    }
   ],
   "source": [
    "dickey_fuller(data_diff2)"
   ]
  },
  {
   "cell_type": "markdown",
   "id": "2cb25aae-48c1-468d-bd09-a76f595b343f",
   "metadata": {},
   "source": [
    "## Data is still not stationary"
   ]
  },
  {
   "cell_type": "code",
   "execution_count": 66,
   "id": "e65496b1-64e3-4aca-b891-248ead7e1cbc",
   "metadata": {},
   "outputs": [],
   "source": [
    "data_diff3 = data_diff2 - data_diff2.shift(1)  # Second-order differencing\n",
    "data_diff3.dropna(inplace=True)  # Remove NaN values"
   ]
  },
  {
   "cell_type": "code",
   "execution_count": 67,
   "id": "191904af-9d8e-456c-b6e7-52b69457b126",
   "metadata": {},
   "outputs": [],
   "source": [
    "data_diff3.dropna(inplace = True) # Here, you remove the missing values that came about as a result of the differencing. \n",
    "# You need to remove these or you won't be able to run the Dickey-Fuller test."
   ]
  },
  {
   "cell_type": "code",
   "execution_count": 107,
   "id": "b2a8fadf-ecaa-4e4d-964b-3d44016c9a29",
   "metadata": {},
   "outputs": [
    {
     "data": {
      "text/plain": [
       "[<matplotlib.lines.Line2D at 0x2cd54083830>]"
      ]
     },
     "execution_count": 107,
     "metadata": {},
     "output_type": "execute_result"
    },
    {
     "data": {
      "image/png": "[encoded data removed]",
      "text/plain": [
       "<Figure size 1500x500 with 1 Axes>"
      ]
     },
     "metadata": {},
     "output_type": "display_data"
    }
   ],
   "source": [
    "# Check out what the differencing did to the time-series curve\n",
    "\n",
    "plt.figure(figsize=(15,5), dpi=100)\n",
    "plt.plot(data_diff3)"
   ]
  },
  {
   "cell_type": "code",
   "execution_count": 109,
   "id": "b090cc54-1d59-42b0-892b-92d21951358d",
   "metadata": {},
   "outputs": [
    {
     "name": "stdout",
     "output_type": "stream",
     "text": [
      "Dickey-Fuller Stationarity test:\n",
      "Test Statistic                -8.113245e+00\n",
      "p-value                        1.209940e-12\n",
      "Number of Lags Used            1.000000e+00\n",
      "Number of Observations Used    6.000000e+00\n",
      "Critical Value (1%)           -5.354256e+00\n",
      "Critical Value (5%)           -3.646238e+00\n",
      "Critical Value (10%)          -2.901198e+00\n",
      "dtype: float64\n"
     ]
    }
   ],
   "source": [
    "dickey_fuller(data_diff3)"
   ]
  },
  {
   "attachments": {},
   "cell_type": "markdown",
   "id": "3243fc7c-10f9-4bc9-a15f-9b3d715f5710",
   "metadata": {},
   "source": [
    "## Now the test statistic is smaller than the critical value, I can reject the null hypothesis, which means the data is stationary"
   ]
  }
 ],
 "metadata": {
  "kernelspec": {
   "display_name": "Python 3 (ipykernel)",
   "language": "python",
   "name": "python3"
  },
  "language_info": {
   "codemirror_mode": {
    "name": "ipython",
    "version": 3
   },
   "file_extension": ".py",
   "mimetype": "text/x-python",
   "name": "python",
   "nbconvert_exporter": "python",
   "pygments_lexer": "ipython3",
   "version": "3.12.4"
  }
 },
 "nbformat": 4,
 "nbformat_minor": 5
}
